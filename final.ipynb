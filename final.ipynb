{
 "cells": [
  {
   "cell_type": "code",
   "execution_count": 1,
   "id": "99cdeae6",
   "metadata": {},
   "outputs": [],
   "source": [
    "import numpy as np\n",
    "import pandas as pd\n",
    "import matplotlib.pyplot as plt\n",
    "import seaborn as sns\n",
    "import scipy.stats as stats\n",
    "import statsmodels.api as sm\n",
    "import statsmodels.formula.api as smf\n",
    "from scipy.stats import ttest_ind, f_oneway"
   ]
  },
  {
   "cell_type": "markdown",
   "id": "cbaa1678",
   "metadata": {},
   "source": [
    "## Exploratory Data Analysis (EDA)"
   ]
  },
  {
   "cell_type": "code",
   "execution_count": 2,
   "id": "bc7025e9",
   "metadata": {},
   "outputs": [
    {
     "data": {
      "text/html": [
       "<div>\n",
       "<style scoped>\n",
       "    .dataframe tbody tr th:only-of-type {\n",
       "        vertical-align: middle;\n",
       "    }\n",
       "\n",
       "    .dataframe tbody tr th {\n",
       "        vertical-align: top;\n",
       "    }\n",
       "\n",
       "    .dataframe thead th {\n",
       "        text-align: right;\n",
       "    }\n",
       "</style>\n",
       "<table border=\"1\" class=\"dataframe\">\n",
       "  <thead>\n",
       "    <tr style=\"text-align: right;\">\n",
       "      <th></th>\n",
       "      <th>Country</th>\n",
       "      <th>Year</th>\n",
       "      <th>Total Energy CO2 Emissions (MMT)</th>\n",
       "    </tr>\n",
       "  </thead>\n",
       "  <tbody>\n",
       "    <tr>\n",
       "      <th>0</th>\n",
       "      <td>United States</td>\n",
       "      <td>2018</td>\n",
       "      <td>5278.222</td>\n",
       "    </tr>\n",
       "    <tr>\n",
       "      <th>1</th>\n",
       "      <td>United States</td>\n",
       "      <td>2019</td>\n",
       "      <td>5146.993</td>\n",
       "    </tr>\n",
       "    <tr>\n",
       "      <th>2</th>\n",
       "      <td>United States</td>\n",
       "      <td>2020</td>\n",
       "      <td>4583.690</td>\n",
       "    </tr>\n",
       "    <tr>\n",
       "      <th>3</th>\n",
       "      <td>United States</td>\n",
       "      <td>2021</td>\n",
       "      <td>4905.623</td>\n",
       "    </tr>\n",
       "    <tr>\n",
       "      <th>4</th>\n",
       "      <td>United States</td>\n",
       "      <td>2022</td>\n",
       "      <td>4938.516</td>\n",
       "    </tr>\n",
       "  </tbody>\n",
       "</table>\n",
       "</div>"
      ],
      "text/plain": [
       "         Country  Year  Total Energy CO2 Emissions (MMT)\n",
       "0  United States  2018                          5278.222\n",
       "1  United States  2019                          5146.993\n",
       "2  United States  2020                          4583.690\n",
       "3  United States  2021                          4905.623\n",
       "4  United States  2022                          4938.516"
      ]
     },
     "execution_count": 2,
     "metadata": {},
     "output_type": "execute_result"
    }
   ],
   "source": [
    "data = pd.read_csv('annual-co2-emissions-usa.csv')\n",
    "\n",
    "data.columns = [\n",
    "    \"Year\", \n",
    "    \"Coal CO2 Emissions\", \n",
    "    \"Natural Gas CO2 Emissions\", \n",
    "    \"Aviation Gasoline CO2 Emissions\", \n",
    "    \"Distillate Fuel Oil CO2 Emissions\", \n",
    "    \"Hydrocarbon Gas Liquids CO2 Emissions\", \n",
    "    \"Jet Fuel CO2 Emissions\", \n",
    "    \"Kerosene CO2 Emissions\", \n",
    "    \"Lubricants CO2 Emissions\", \n",
    "    \"Motor Gasoline CO2 Emissions\", \n",
    "    \"Petroleum Coke CO2 Emissions\", \n",
    "    \"Residual Fuel Oil CO2 Emissions\", \n",
    "    \"Other Petroleum Products CO2 Emissions\", \n",
    "    \"Petroleum Excluding Biofuels CO2 Emissions\", \n",
    "    \"Total Energy CO2 Emissions (MMT)\"\n",
    "]\n",
    "\n",
    "data = data.iloc[1:].reset_index(drop=True)\n",
    "\n",
    "# Convert the Year column to numeric, setting errors='coerce' will turn non-numeric values to NaN\n",
    "data['Year'] = pd.to_numeric(data['Year'], errors='coerce')\n",
    "\n",
    "# Filter the data for the years 2018 to 2022 and keep only the 'Year' and 'Total Energy CO2 Emissions' columns\n",
    "filtered_data = data[(data['Year'] >= 2018) & (data['Year'] <= 2022)][['Year', 'Total Energy CO2 Emissions (MMT)']]\n",
    "\n",
    "# Convert 'Total Energy CO2 Emissions' to numeric\n",
    "filtered_data['Total Energy CO2 Emissions (MMT)'] = pd.to_numeric(filtered_data['Total Energy CO2 Emissions (MMT)'], errors='coerce')\n",
    "\n",
    "filtered_data.reset_index(drop=True, inplace=True)\n",
    "\n",
    "filtered_data['Year'] = filtered_data['Year'].astype(int)\n",
    "\n",
    "filtered_data.insert(0, 'Country', 'United States')\n",
    "\n",
    "# Display the cleaned data\n",
    "filtered_data"
   ]
  },
  {
   "cell_type": "code",
   "execution_count": 3,
   "id": "a2911df7",
   "metadata": {},
   "outputs": [],
   "source": [
    "data_2018 = pd.read_csv('2018-remote-work-data.csv')\n",
    "data_2019 = pd.read_csv('2019-remote-work-data.csv')\n",
    "data_2020 = pd.read_csv('2020-remote-work-data.csv')\n",
    "data_2021 = pd.read_csv('2021-remote-work-data.csv')\n",
    "data_2022 = pd.read_csv('2022-remote-work-data.csv')"
   ]
  },
  {
   "cell_type": "code",
   "execution_count": 4,
   "id": "bd35bf77",
   "metadata": {},
   "outputs": [],
   "source": [
    "work_from_home_2018 = data_2018[data_2018['Label (Grouping)'] == '\\xa0\\xa0\\xa0\\xa0Worked at home:']\n",
    "work_from_home_2019 = data_2019[data_2019['Label (Grouping)'] == '\\xa0\\xa0\\xa0\\xa0Worked from home:']\n",
    "work_from_home_2020 = data_2020[data_2020['Label (Grouping)'] == '\\xa0\\xa0\\xa0\\xa0Worked from home:']\n",
    "work_from_home_2021 = data_2021[data_2021['Label (Grouping)'] == '\\xa0\\xa0\\xa0\\xa0Worked from home:']\n",
    "work_from_home_2022 = data_2022[data_2022['Label (Grouping)'] == '\\xa0\\xa0\\xa0\\xa0Worked from home:']"
   ]
  },
  {
   "cell_type": "code",
   "execution_count": 25,
   "id": "9a1d8164",
   "metadata": {},
   "outputs": [
    {
     "data": {
      "text/html": [
       "<div>\n",
       "<style scoped>\n",
       "    .dataframe tbody tr th:only-of-type {\n",
       "        vertical-align: middle;\n",
       "    }\n",
       "\n",
       "    .dataframe tbody tr th {\n",
       "        vertical-align: top;\n",
       "    }\n",
       "\n",
       "    .dataframe thead th {\n",
       "        text-align: right;\n",
       "    }\n",
       "</style>\n",
       "<table border=\"1\" class=\"dataframe\">\n",
       "  <thead>\n",
       "    <tr style=\"text-align: right;\">\n",
       "      <th></th>\n",
       "      <th>Country</th>\n",
       "      <th>Year</th>\n",
       "      <th>Total Worked From Home (Millions)</th>\n",
       "    </tr>\n",
       "  </thead>\n",
       "  <tbody>\n",
       "    <tr>\n",
       "      <th>0</th>\n",
       "      <td>United States</td>\n",
       "      <td>2018</td>\n",
       "      <td>8.094220</td>\n",
       "    </tr>\n",
       "    <tr>\n",
       "      <th>1</th>\n",
       "      <td>United States</td>\n",
       "      <td>2019</td>\n",
       "      <td>8.816739</td>\n",
       "    </tr>\n",
       "    <tr>\n",
       "      <th>2</th>\n",
       "      <td>United States</td>\n",
       "      <td>2020</td>\n",
       "      <td>23.748392</td>\n",
       "    </tr>\n",
       "    <tr>\n",
       "      <th>3</th>\n",
       "      <td>United States</td>\n",
       "      <td>2021</td>\n",
       "      <td>27.336738</td>\n",
       "    </tr>\n",
       "    <tr>\n",
       "      <th>4</th>\n",
       "      <td>United States</td>\n",
       "      <td>2022</td>\n",
       "      <td>24.181288</td>\n",
       "    </tr>\n",
       "  </tbody>\n",
       "</table>\n",
       "</div>"
      ],
      "text/plain": [
       "         Country  Year  Total Worked From Home (Millions)\n",
       "0  United States  2018                           8.094220\n",
       "1  United States  2019                           8.816739\n",
       "2  United States  2020                          23.748392\n",
       "3  United States  2021                          27.336738\n",
       "4  United States  2022                          24.181288"
      ]
     },
     "execution_count": 25,
     "metadata": {},
     "output_type": "execute_result"
    }
   ],
   "source": [
    "country = 'United States'\n",
    "\n",
    "years = [2018, 2019, 2020, 2021, 2022]\n",
    "\n",
    "total_worked_from_home = [\n",
    "    work_from_home_2018['United States!!Estimate'].values[0],\n",
    "    work_from_home_2019['United States!!Estimate'].values[0],\n",
    "    work_from_home_2020['United States!!Estimate'].values[0],\n",
    "    work_from_home_2021['United States!!Estimate'].values[0],\n",
    "    work_from_home_2022['United States!!Estimate'].values[0]\n",
    "]\n",
    "\n",
    "formatted_remote_data = pd.DataFrame({\n",
    "    'Country': [country] * len(years),\n",
    "    'Year': years,\n",
    "    'Total Worked From Home': total_worked_from_home\n",
    "})\n",
    "\n",
    "formatted_remote_data['Total Worked From Home'] = formatted_remote_data['Total Worked From Home'].str.replace(',', '')\n",
    "\n",
    "formatted_remote_data['Total Worked From Home'] = formatted_remote_data['Total Worked From Home'].astype(int)\n",
    "\n",
    "formatted_remote_data['Total Worked From Home (Millions)'] = formatted_remote_data['Total Worked From Home'] / 1_000_000\n",
    "\n",
    "formatted_remote_data = formatted_remote_data.drop(columns=['Total Worked From Home'])\n",
    "\n",
    "formatted_remote_data"
   ]
  },
  {
   "cell_type": "markdown",
   "id": "b3e09461",
   "metadata": {},
   "source": []
  },
  {
   "cell_type": "code",
   "execution_count": 42,
   "id": "57a92039",
   "metadata": {},
   "outputs": [
    {
     "data": {
      "image/png": "[encoded data removed]",
      "text/plain": [
       "<Figure size 720x432 with 1 Axes>"
      ]
     },
     "metadata": {
      "needs_background": "light"
     },
     "output_type": "display_data"
    }
   ],
   "source": [
    "plt.figure(figsize=(10, 6))\n",
    "sns.lineplot(data=filtered_data, x='Year', y='Total Energy CO2 Emissions (MMT)', marker='o')\n",
    "plt.title('Total Energy CO2 Emissions (MMT) Over Time')\n",
    "plt.xlabel('Year')\n",
    "plt.ylabel('Total Energy CO2 Emissions (MMT)')\n",
    "plt.show()"
   ]
  },
  {
   "cell_type": "code",
   "execution_count": 36,
   "id": "a40bcb49",
   "metadata": {
    "scrolled": true
   },
   "outputs": [
    {
     "data": {
      "image/png": "[encoded data removed]",
      "text/plain": [
       "<Figure size 720x432 with 1 Axes>"
      ]
     },
     "metadata": {
      "needs_background": "light"
     },
     "output_type": "display_data"
    }
   ],
   "source": [
    "plt.figure(figsize=(10, 6))\n",
    "sns.lineplot(data=formatted_remote_data, x='Year', y='Total Worked From Home (Millions)', marker='o')\n",
    "plt.title('Total Worked From Home Over Time')\n",
    "plt.xlabel('Year')\n",
    "plt.ylabel('Total Worked From Home (Millions)')\n",
    "plt.show()"
   ]
  },
  {
   "cell_type": "markdown",
   "id": "5be030a4",
   "metadata": {},
   "source": [
    "## Analysis"
   ]
  },
  {
   "cell_type": "code",
   "execution_count": 39,
   "id": "7a51da72",
   "metadata": {},
   "outputs": [
    {
     "data": {
      "image/png": "[encoded data removed]",
      "text/plain": [
       "<Figure size 720x432 with 1 Axes>"
      ]
     },
     "metadata": {
      "needs_background": "light"
     },
     "output_type": "display_data"
    },
    {
     "data": {
      "text/plain": [
       "-0.7878812382984175"
      ]
     },
     "execution_count": 39,
     "metadata": {},
     "output_type": "execute_result"
    }
   ],
   "source": [
    "merged_data = pd.merge(filtered_data, formatted_remote_data, on=['Country', 'Year'])\n",
    "\n",
    "correlation = merged_data['Total Energy CO2 Emissions (MMT)'].corr(merged_data['Total Worked From Home (Millions)'])\n",
    "\n",
    "plt.figure(figsize=(10, 6))\n",
    "plt.scatter(merged_data['Total Worked From Home (Millions)'], merged_data['Total Energy CO2 Emissions (MMT)'], alpha=0.7)\n",
    "plt.title(f'Correlation between Total Worked From Home and CO2 Emissions\\nCorrelation Coefficient: {correlation:.2f}')\n",
    "plt.xlabel('Total Worked From Home (Millions)')\n",
    "plt.ylabel('Total Energy CO2 Emissions (MMT)')\n",
    "plt.show()\n",
    "\n",
    "correlation"
   ]
  },
  {
   "cell_type": "code",
   "execution_count": 47,
   "id": "3236e2ce",
   "metadata": {},
   "outputs": [
    {
     "name": "stderr",
     "output_type": "stream",
     "text": [
      "/opt/conda/lib/python3.9/site-packages/statsmodels/stats/stattools.py:74: ValueWarning: omni_normtest is not valid with less than 8 observations; 5 samples were given.\n",
      "  warn(\"omni_normtest is not valid with less than 8 observations; %i \"\n"
     ]
    },
    {
     "data": {
      "text/html": [
       "<table class=\"simpletable\">\n",
       "<caption>OLS Regression Results</caption>\n",
       "<tr>\n",
       "  <th>Dep. Variable:</th>    <td>Total Energy CO2 Emissions (MMT)</td> <th>  R-squared:         </th> <td>   0.621</td>\n",
       "</tr>\n",
       "<tr>\n",
       "  <th>Model:</th>                           <td>OLS</td>               <th>  Adj. R-squared:    </th> <td>   0.494</td>\n",
       "</tr>\n",
       "<tr>\n",
       "  <th>Method:</th>                     <td>Least Squares</td>          <th>  F-statistic:       </th> <td>   4.910</td>\n",
       "</tr>\n",
       "<tr>\n",
       "  <th>Date:</th>                     <td>Wed, 05 Jun 2024</td>         <th>  Prob (F-statistic):</th>  <td> 0.113</td> \n",
       "</tr>\n",
       "<tr>\n",
       "  <th>Time:</th>                         <td>22:01:27</td>             <th>  Log-Likelihood:    </th> <td> -32.010</td>\n",
       "</tr>\n",
       "<tr>\n",
       "  <th>No. Observations:</th>              <td>     5</td>              <th>  AIC:               </th> <td>   68.02</td>\n",
       "</tr>\n",
       "<tr>\n",
       "  <th>Df Residuals:</th>                  <td>     3</td>              <th>  BIC:               </th> <td>   67.24</td>\n",
       "</tr>\n",
       "<tr>\n",
       "  <th>Df Model:</th>                      <td>     1</td>              <th>                     </th>     <td> </td>   \n",
       "</tr>\n",
       "<tr>\n",
       "  <th>Covariance Type:</th>              <td>nonrobust</td>            <th>                     </th>     <td> </td>   \n",
       "</tr>\n",
       "</table>\n",
       "<table class=\"simpletable\">\n",
       "<tr>\n",
       "                  <td></td>                     <th>coef</th>     <th>std err</th>      <th>t</th>      <th>P>|t|</th>  <th>[0.025</th>    <th>0.975]</th>  \n",
       "</tr>\n",
       "<tr>\n",
       "  <th>const</th>                             <td> 5387.9923</td> <td>  206.334</td> <td>   26.113</td> <td> 0.000</td> <td> 4731.346</td> <td> 6044.639</td>\n",
       "</tr>\n",
       "<tr>\n",
       "  <th>Total Worked From Home (Millions)</th> <td>  -22.6402</td> <td>   10.217</td> <td>   -2.216</td> <td> 0.113</td> <td>  -55.155</td> <td>    9.874</td>\n",
       "</tr>\n",
       "</table>\n",
       "<table class=\"simpletable\">\n",
       "<tr>\n",
       "  <th>Omnibus:</th>       <td>   nan</td> <th>  Durbin-Watson:     </th> <td>   2.141</td>\n",
       "</tr>\n",
       "<tr>\n",
       "  <th>Prob(Omnibus):</th> <td>   nan</td> <th>  Jarque-Bera (JB):  </th> <td>   0.858</td>\n",
       "</tr>\n",
       "<tr>\n",
       "  <th>Skew:</th>          <td>-0.975</td> <th>  Prob(JB):          </th> <td>   0.651</td>\n",
       "</tr>\n",
       "<tr>\n",
       "  <th>Kurtosis:</th>      <td> 2.438</td> <th>  Cond. No.          </th> <td>    49.6</td>\n",
       "</tr>\n",
       "</table><br/><br/>Notes:<br/>[1] Standard Errors assume that the covariance matrix of the errors is correctly specified."
      ],
      "text/latex": [
       "\\begin{center}\n",
       "\\begin{tabular}{lclc}\n",
       "\\toprule\n",
       "\\textbf{Dep. Variable:}                    & Total Energy CO2 Emissions (MMT) & \\textbf{  R-squared:         } &     0.621   \\\\\n",
       "\\textbf{Model:}                            &               OLS                & \\textbf{  Adj. R-squared:    } &     0.494   \\\\\n",
       "\\textbf{Method:}                           &          Least Squares           & \\textbf{  F-statistic:       } &     4.910   \\\\\n",
       "\\textbf{Date:}                             &         Wed, 05 Jun 2024         & \\textbf{  Prob (F-statistic):} &    0.113    \\\\\n",
       "\\textbf{Time:}                             &             22:01:27             & \\textbf{  Log-Likelihood:    } &   -32.010   \\\\\n",
       "\\textbf{No. Observations:}                 &                   5              & \\textbf{  AIC:               } &     68.02   \\\\\n",
       "\\textbf{Df Residuals:}                     &                   3              & \\textbf{  BIC:               } &     67.24   \\\\\n",
       "\\textbf{Df Model:}                         &                   1              & \\textbf{                     } &             \\\\\n",
       "\\textbf{Covariance Type:}                  &            nonrobust             & \\textbf{                     } &             \\\\\n",
       "\\bottomrule\n",
       "\\end{tabular}\n",
       "\\begin{tabular}{lcccccc}\n",
       "                                           & \\textbf{coef} & \\textbf{std err} & \\textbf{t} & \\textbf{P$> |$t$|$} & \\textbf{[0.025} & \\textbf{0.975]}  \\\\\n",
       "\\midrule\n",
       "\\textbf{const}                             &    5387.9923  &      206.334     &    26.113  &         0.000        &     4731.346    &     6044.639     \\\\\n",
       "\\textbf{Total Worked From Home (Millions)} &     -22.6402  &       10.217     &    -2.216  &         0.113        &      -55.155    &        9.874     \\\\\n",
       "\\bottomrule\n",
       "\\end{tabular}\n",
       "\\begin{tabular}{lclc}\n",
       "\\textbf{Omnibus:}       &    nan & \\textbf{  Durbin-Watson:     } &    2.141  \\\\\n",
       "\\textbf{Prob(Omnibus):} &    nan & \\textbf{  Jarque-Bera (JB):  } &    0.858  \\\\\n",
       "\\textbf{Skew:}          & -0.975 & \\textbf{  Prob(JB):          } &    0.651  \\\\\n",
       "\\textbf{Kurtosis:}      &  2.438 & \\textbf{  Cond. No.          } &     49.6  \\\\\n",
       "\\bottomrule\n",
       "\\end{tabular}\n",
       "%\\caption{OLS Regression Results}\n",
       "\\end{center}\n",
       "\n",
       "Notes: \\newline\n",
       " [1] Standard Errors assume that the covariance matrix of the errors is correctly specified."
      ],
      "text/plain": [
       "<class 'statsmodels.iolib.summary.Summary'>\n",
       "\"\"\"\n",
       "                                   OLS Regression Results                                   \n",
       "============================================================================================\n",
       "Dep. Variable:     Total Energy CO2 Emissions (MMT)   R-squared:                       0.621\n",
       "Model:                                          OLS   Adj. R-squared:                  0.494\n",
       "Method:                               Least Squares   F-statistic:                     4.910\n",
       "Date:                              Wed, 05 Jun 2024   Prob (F-statistic):              0.113\n",
       "Time:                                      22:01:27   Log-Likelihood:                -32.010\n",
       "No. Observations:                                 5   AIC:                             68.02\n",
       "Df Residuals:                                     3   BIC:                             67.24\n",
       "Df Model:                                         1                                         \n",
       "Covariance Type:                          nonrobust                                         \n",
       "=====================================================================================================\n",
       "                                        coef    std err          t      P>|t|      [0.025      0.975]\n",
       "-----------------------------------------------------------------------------------------------------\n",
       "const                              5387.9923    206.334     26.113      0.000    4731.346    6044.639\n",
       "Total Worked From Home (Millions)   -22.6402     10.217     -2.216      0.113     -55.155       9.874\n",
       "==============================================================================\n",
       "Omnibus:                          nan   Durbin-Watson:                   2.141\n",
       "Prob(Omnibus):                    nan   Jarque-Bera (JB):                0.858\n",
       "Skew:                          -0.975   Prob(JB):                        0.651\n",
       "Kurtosis:                       2.438   Cond. No.                         49.6\n",
       "==============================================================================\n",
       "\n",
       "Notes:\n",
       "[1] Standard Errors assume that the covariance matrix of the errors is correctly specified.\n",
       "\"\"\""
      ]
     },
     "execution_count": 47,
     "metadata": {},
     "output_type": "execute_result"
    }
   ],
   "source": [
    "X = merged_data['Total Worked From Home (Millions)']\n",
    "Y = merged_data['Total Energy CO2 Emissions (MMT)']\n",
    "\n",
    "X = sm.add_constant(X)\n",
    "\n",
    "model = sm.OLS(Y, X).fit()\n",
    "\n",
    "model.summary()"
   ]
  },
  {
   "cell_type": "code",
   "execution_count": 44,
   "id": "987506bd",
   "metadata": {},
   "outputs": [],
   "source": [
    "def standardize(X):\n",
    "    return (X - X.mean()) / X.std()\n",
    "\n",
    "residuals = standardize(model.resid)"
   ]
  },
  {
   "cell_type": "code",
   "execution_count": 45,
   "id": "763faee2",
   "metadata": {},
   "outputs": [
    {
     "data": {
      "image/png": "[encoded data removed]",
      "text/plain": [
       "<Figure size 432x288 with 1 Axes>"
      ]
     },
     "execution_count": 45,
     "metadata": {},
     "output_type": "execute_result"
    },
    {
     "data": {
      "image/png": "[encoded data removed]",
      "text/plain": [
       "<Figure size 432x288 with 1 Axes>"
      ]
     },
     "metadata": {
      "needs_background": "light"
     },
     "output_type": "display_data"
    }
   ],
   "source": [
    "sm.qqplot(residuals, line='s')"
   ]
  },
  {
   "cell_type": "code",
   "execution_count": null,
   "id": "2ceba299",
   "metadata": {},
   "outputs": [],
   "source": []
  }
 ],
 "metadata": {
  "kernelspec": {
   "display_name": "Python 3 (ipykernel)",
   "language": "python",
   "name": "python3"
  },
  "language_info": {
   "codemirror_mode": {
    "name": "ipython",
    "version": 3
   },
   "file_extension": ".py",
   "mimetype": "text/x-python",
   "name": "python",
   "nbconvert_exporter": "python",
   "pygments_lexer": "ipython3",
   "version": "3.9.5"
  }
 },
 "nbformat": 4,
 "nbformat_minor": 5
}
